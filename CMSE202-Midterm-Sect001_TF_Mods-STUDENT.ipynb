{
 "cells": [
  {
   "cell_type": "markdown",
   "metadata": {
    "pycharm": {
     "name": "#%% md\n"
    }
   },
   "source": [
    "## <p style=\"text-align: right;\"> &#9989; Put your name here</p>"
   ]
  },
  {
   "cell_type": "markdown",
   "metadata": {
    "pycharm": {
     "name": "#%% md\n"
    }
   },
   "source": [
    "# CMSE 202 Midterm (Section 001 - Spring 2023)\n",
    "\n",
    "The goal of this midterm is to give you the opportunity to test out some of the skills that you've developed thus far this semester. In particular, you'll practice setting up a GitHub repository, committing and pushing repository changes, downloading data with command line tools, performing some data analysis, possibly using a new Python package, and writing a python class. You should find that you have all of the skills necessary to complete this exam with even just eight weeks of CMSE 202 under your belt!\n",
    "\n",
    "You are encouraged to look through the entire exam before you get started so that you can appropriately budget your time and understand the broad goals of the exam. Once you've read through it, try doing Parts 1 and 2 first so that you have your repository set up and you download all necessary data files as they will be necessary to complete the assigned tasks. Let your instructor know right away if you have problems downloading the data!\n",
    "\n",
    "The exam is set up so that even if you get stuck on one part there are opportunities to get points on the other parts, so consider jumping ahead if you feel like you aren't making progress and then come back later if you have time.\n",
    "\n",
    "**Important note about using online resources**: This exam is \"open internet\". That means that you can look up documentation, google how to accomplish certain Python tasks, etc. Being able to effectively use the internet for computational modeling and data science is a very important skill, so we want to make sure you have the opportunity to exercise that skill. **However**: The use of any person-to-person communication software is absolutely not acceptable. If you are seen accessing your email, using a chat program (e.g. Slack), or any sort of collaborative cloud storage or document software (e.g. Google Documents), you will be at risk for receiving a zero on the exam.\n",
    "\n",
    "**Keep your eyes on your screen!** Unfortunately, there isn't enough space in the room for everyone to sit at their own table so please do your best to keep your eyes on your own screen. This exam is designed to give *you* the opportunity to show the instructor what you can do and you should hold yourself accountable for maintaining a high level of academic integrity. If any of the instructors observe suspicious behavior, you will, again, risk receiving a zero."
   ]
  },
  {
   "cell_type": "markdown",
   "metadata": {
    "pycharm": {
     "name": "#%% md\n"
    }
   },
   "source": [
    "---\n",
    "## Part 0: Academic integrity statement\n",
    "\n",
    "Read the following statement and edit the markdown text to put your name in the statement. This is your commitment to doing your own authentic work on this exam."
   ]
  },
  {
   "cell_type": "markdown",
   "metadata": {
    "pycharm": {
     "name": "#%% md\n"
    }
   },
   "source": [
    "> I, **INSERT NAME HERE**, affirm that this exam represents my own authetic work, without the use of any unpermitted aids or resources or person-to-person communication. I understand that this exam is an opportunity to showcase my own progress in developing and improving my computational skills and have done my best to demonstrate those skills."
   ]
  },
  {
   "cell_type": "markdown",
   "metadata": {
    "pycharm": {
     "name": "#%% md\n"
    }
   },
   "source": [
    "---\n",
    "## Part 1: Add to your Git repository to track your progress on your exam (7 points)\n",
    "\n",
    "Before you get to far along in the exam, you're going to add it to the `cmse202-s23-turnin` repository you created in class so that you can track your progress on the exam and preserve the final version that you turn in. In order to do this you need to\n",
    "\n",
    "**&#9989; Do the following**:\n",
    "\n",
    "1. Navigate to your `cmse202-s23-turnin` repository and create a new directory called `midterm`.\n",
    "2. Move this notebook into that **new directory** in your repository, then **add it and commit it to your repository**.\n",
    "1. Finally, to test that everything is working, \"git push\" the file so that it ends up in your GitHub repository.\n",
    "\n",
    "**Important**: Double check you've added your Professor and your TA as collaborators to your \"turnin\" respository (you should have done this in the previous homework assignment).\n",
    "\n",
    "**Also important**: Make sure that the version of this notebook that you are working on is the same one that you just added to your repository! If you are working on a different copy of the noteobok, **none of your changes will be tracked**!\n",
    "\n",
    "If everything went as intended, the file should now show up on your GitHub account in the \"`cmse202-s23-turnin`\" repository inside the `midterm` directory that you just created.  Periodically, **you'll be asked to commit your changes to the repository and push them to the remote GitHub location**. Of course, you can always commit your changes more often than that, if you wish.  It can be good to get into a habit of committing your changes any time you make a significant modification, or when you stop working on the project for a bit.\n"
   ]
  },
  {
   "cell_type": "markdown",
   "metadata": {},
   "source": [
    "&#9989; **Do this**:\n",
    "```\n",
    "(2 pt) Put the command you used to create the midterm directory here (Do Not Delete the ```)\n",
    "\n",
    "mkdir midterm\n",
    "```\n",
    "\n",
    "\n"
   ]
  },
  {
   "cell_type": "markdown",
   "metadata": {},
   "source": [
    "&#9989; **Do this**:\n",
    "``` \n",
    "(2 pt) Put the command you used to initiate git, add file, and commit actions here (Do Not Delete the ```)\n",
    "\n",
    "git commit -a -m \"make a new directory midterm\"\n",
    "```\n",
    "\n"
   ]
  },
  {
   "cell_type": "markdown",
   "metadata": {},
   "source": [
    "&#9989; **Do this**:\n",
    "```\n",
    "(2 pt) Put the command you used to push to GitHub here (Do Not Delete the ```)\n",
    "\n",
    "git push\n",
    "```"
   ]
  },
  {
   "cell_type": "markdown",
   "metadata": {},
   "source": [
    "&#9989; **Do this**: \n",
    "```\n",
    "(1 pt) Put the command that your instructor can run to clone your repository here (Do Not Delete the ```)\n",
    "\n",
    "git clone https://github.com/P01yh3/CMSE202-s23-midterm.git\n",
    "```"
   ]
  },
  {
   "cell_type": "markdown",
   "metadata": {
    "pycharm": {
     "name": "#%% md\n"
    }
   },
   "source": [
    "---\n",
    "## Part 2: Downloading and analyzing unfamiliar data (30 points)\n",
    "\n"
   ]
  },
  {
   "cell_type": "markdown",
   "metadata": {
    "pycharm": {
     "name": "#%% md\n"
    }
   },
   "source": [
    "&#9989; **(3 pt):** Download the files using `curl` and the following links. Put the command you used to download the files in the cell below.\n",
    "\n",
    "`https://raw.githubusercontent.com/huichiayu/cmse_202_802/main/data/SAS.csv`\n"
   ]
  },
  {
   "cell_type": "code",
   "execution_count": 1,
   "metadata": {},
   "outputs": [
    {
     "ename": "SyntaxError",
     "evalue": "invalid syntax (<ipython-input-1-9adf0249c90a>, line 2)",
     "output_type": "error",
     "traceback": [
      "\u001b[0;36m  File \u001b[0;32m\"<ipython-input-1-9adf0249c90a>\"\u001b[0;36m, line \u001b[0;32m2\u001b[0m\n\u001b[0;31m    curl -O https://raw.githubusercontent.com/huichiayu/cmse_202_802/main/data/SAS.csv\u001b[0m\n\u001b[0m            ^\u001b[0m\n\u001b[0;31mSyntaxError\u001b[0m\u001b[0;31m:\u001b[0m invalid syntax\n"
     ]
    }
   ],
   "source": [
    "## put your command here\n",
    "curl -O https://raw.githubusercontent.com/huichiayu/cmse_202_802/main/data/SAS.csv"
   ]
  },
  {
   "cell_type": "markdown",
   "metadata": {},
   "source": [
    "&#9989; **(3 pt):** This file is a dataset of diabetic patients. Use pandas to import and display the data."
   ]
  },
  {
   "cell_type": "code",
   "execution_count": 2,
   "metadata": {},
   "outputs": [],
   "source": [
    "## put your code here\n",
    "import pandas as pd"
   ]
  },
  {
   "cell_type": "code",
   "execution_count": 4,
   "metadata": {},
   "outputs": [
    {
     "data": {
      "text/html": [
       "<div>\n",
       "<style scoped>\n",
       "    .dataframe tbody tr th:only-of-type {\n",
       "        vertical-align: middle;\n",
       "    }\n",
       "\n",
       "    .dataframe tbody tr th {\n",
       "        vertical-align: top;\n",
       "    }\n",
       "\n",
       "    .dataframe thead th {\n",
       "        text-align: right;\n",
       "    }\n",
       "</style>\n",
       "<table border=\"1\" class=\"dataframe\">\n",
       "  <thead>\n",
       "    <tr style=\"text-align: right;\">\n",
       "      <th></th>\n",
       "      <th>AGE</th>\n",
       "      <th>SEX</th>\n",
       "      <th>BMI</th>\n",
       "      <th>Blood_pressure</th>\n",
       "      <th>Total_cholesterol</th>\n",
       "      <th>LD_lipo</th>\n",
       "      <th>HD_lipo</th>\n",
       "      <th>Total_cholesterol/HDL</th>\n",
       "      <th>triglycerides</th>\n",
       "      <th>Glucose</th>\n",
       "      <th>Y</th>\n",
       "    </tr>\n",
       "  </thead>\n",
       "  <tbody>\n",
       "    <tr>\n",
       "      <th>0</th>\n",
       "      <td>59</td>\n",
       "      <td>2</td>\n",
       "      <td>32.1</td>\n",
       "      <td>101.00</td>\n",
       "      <td>157</td>\n",
       "      <td>93.2</td>\n",
       "      <td>38.0</td>\n",
       "      <td>4.00</td>\n",
       "      <td>4.8598</td>\n",
       "      <td>87</td>\n",
       "      <td>151</td>\n",
       "    </tr>\n",
       "    <tr>\n",
       "      <th>1</th>\n",
       "      <td>48</td>\n",
       "      <td>1</td>\n",
       "      <td>21.6</td>\n",
       "      <td>87.00</td>\n",
       "      <td>183</td>\n",
       "      <td>103.2</td>\n",
       "      <td>70.0</td>\n",
       "      <td>3.00</td>\n",
       "      <td>3.8918</td>\n",
       "      <td>69</td>\n",
       "      <td>75</td>\n",
       "    </tr>\n",
       "    <tr>\n",
       "      <th>2</th>\n",
       "      <td>72</td>\n",
       "      <td>2</td>\n",
       "      <td>30.5</td>\n",
       "      <td>93.00</td>\n",
       "      <td>156</td>\n",
       "      <td>93.6</td>\n",
       "      <td>41.0</td>\n",
       "      <td>4.00</td>\n",
       "      <td>4.6728</td>\n",
       "      <td>85</td>\n",
       "      <td>141</td>\n",
       "    </tr>\n",
       "    <tr>\n",
       "      <th>3</th>\n",
       "      <td>24</td>\n",
       "      <td>1</td>\n",
       "      <td>25.3</td>\n",
       "      <td>84.00</td>\n",
       "      <td>198</td>\n",
       "      <td>131.4</td>\n",
       "      <td>40.0</td>\n",
       "      <td>5.00</td>\n",
       "      <td>4.8903</td>\n",
       "      <td>89</td>\n",
       "      <td>206</td>\n",
       "    </tr>\n",
       "    <tr>\n",
       "      <th>4</th>\n",
       "      <td>50</td>\n",
       "      <td>1</td>\n",
       "      <td>23.0</td>\n",
       "      <td>101.00</td>\n",
       "      <td>192</td>\n",
       "      <td>125.4</td>\n",
       "      <td>52.0</td>\n",
       "      <td>4.00</td>\n",
       "      <td>4.2905</td>\n",
       "      <td>80</td>\n",
       "      <td>135</td>\n",
       "    </tr>\n",
       "    <tr>\n",
       "      <th>...</th>\n",
       "      <td>...</td>\n",
       "      <td>...</td>\n",
       "      <td>...</td>\n",
       "      <td>...</td>\n",
       "      <td>...</td>\n",
       "      <td>...</td>\n",
       "      <td>...</td>\n",
       "      <td>...</td>\n",
       "      <td>...</td>\n",
       "      <td>...</td>\n",
       "      <td>...</td>\n",
       "    </tr>\n",
       "    <tr>\n",
       "      <th>437</th>\n",
       "      <td>60</td>\n",
       "      <td>2</td>\n",
       "      <td>28.2</td>\n",
       "      <td>112.00</td>\n",
       "      <td>185</td>\n",
       "      <td>113.8</td>\n",
       "      <td>42.0</td>\n",
       "      <td>4.00</td>\n",
       "      <td>4.9836</td>\n",
       "      <td>93</td>\n",
       "      <td>178</td>\n",
       "    </tr>\n",
       "    <tr>\n",
       "      <th>438</th>\n",
       "      <td>47</td>\n",
       "      <td>2</td>\n",
       "      <td>24.9</td>\n",
       "      <td>75.00</td>\n",
       "      <td>225</td>\n",
       "      <td>166.0</td>\n",
       "      <td>42.0</td>\n",
       "      <td>5.00</td>\n",
       "      <td>4.4427</td>\n",
       "      <td>102</td>\n",
       "      <td>104</td>\n",
       "    </tr>\n",
       "    <tr>\n",
       "      <th>439</th>\n",
       "      <td>60</td>\n",
       "      <td>2</td>\n",
       "      <td>24.9</td>\n",
       "      <td>99.67</td>\n",
       "      <td>162</td>\n",
       "      <td>106.6</td>\n",
       "      <td>43.0</td>\n",
       "      <td>3.77</td>\n",
       "      <td>4.1271</td>\n",
       "      <td>95</td>\n",
       "      <td>132</td>\n",
       "    </tr>\n",
       "    <tr>\n",
       "      <th>440</th>\n",
       "      <td>36</td>\n",
       "      <td>1</td>\n",
       "      <td>30.0</td>\n",
       "      <td>95.00</td>\n",
       "      <td>201</td>\n",
       "      <td>125.2</td>\n",
       "      <td>42.0</td>\n",
       "      <td>4.79</td>\n",
       "      <td>5.1299</td>\n",
       "      <td>85</td>\n",
       "      <td>220</td>\n",
       "    </tr>\n",
       "    <tr>\n",
       "      <th>441</th>\n",
       "      <td>36</td>\n",
       "      <td>1</td>\n",
       "      <td>19.6</td>\n",
       "      <td>71.00</td>\n",
       "      <td>250</td>\n",
       "      <td>133.2</td>\n",
       "      <td>97.0</td>\n",
       "      <td>3.00</td>\n",
       "      <td>4.5951</td>\n",
       "      <td>92</td>\n",
       "      <td>57</td>\n",
       "    </tr>\n",
       "  </tbody>\n",
       "</table>\n",
       "<p>442 rows × 11 columns</p>\n",
       "</div>"
      ],
      "text/plain": [
       "     AGE  SEX   BMI  Blood_pressure  Total_cholesterol  LD_lipo  HD_lipo  \\\n",
       "0     59    2  32.1          101.00                157     93.2     38.0   \n",
       "1     48    1  21.6           87.00                183    103.2     70.0   \n",
       "2     72    2  30.5           93.00                156     93.6     41.0   \n",
       "3     24    1  25.3           84.00                198    131.4     40.0   \n",
       "4     50    1  23.0          101.00                192    125.4     52.0   \n",
       "..   ...  ...   ...             ...                ...      ...      ...   \n",
       "437   60    2  28.2          112.00                185    113.8     42.0   \n",
       "438   47    2  24.9           75.00                225    166.0     42.0   \n",
       "439   60    2  24.9           99.67                162    106.6     43.0   \n",
       "440   36    1  30.0           95.00                201    125.2     42.0   \n",
       "441   36    1  19.6           71.00                250    133.2     97.0   \n",
       "\n",
       "     Total_cholesterol/HDL  triglycerides  Glucose    Y  \n",
       "0                     4.00         4.8598       87  151  \n",
       "1                     3.00         3.8918       69   75  \n",
       "2                     4.00         4.6728       85  141  \n",
       "3                     5.00         4.8903       89  206  \n",
       "4                     4.00         4.2905       80  135  \n",
       "..                     ...            ...      ...  ...  \n",
       "437                   4.00         4.9836       93  178  \n",
       "438                   5.00         4.4427      102  104  \n",
       "439                   3.77         4.1271       95  132  \n",
       "440                   4.79         5.1299       85  220  \n",
       "441                   3.00         4.5951       92   57  \n",
       "\n",
       "[442 rows x 11 columns]"
      ]
     },
     "execution_count": 4,
     "metadata": {},
     "output_type": "execute_result"
    }
   ],
   "source": [
    "df=pd.read_csv(\"SAS.csv\")\n",
    "df"
   ]
  },
  {
   "cell_type": "markdown",
   "metadata": {},
   "source": [
    "&#9989; **(3 pt):** This dataset contains a column that we won't need. Drop the last column from this dataset."
   ]
  },
  {
   "cell_type": "code",
   "execution_count": 7,
   "metadata": {},
   "outputs": [
    {
     "data": {
      "text/html": [
       "<div>\n",
       "<style scoped>\n",
       "    .dataframe tbody tr th:only-of-type {\n",
       "        vertical-align: middle;\n",
       "    }\n",
       "\n",
       "    .dataframe tbody tr th {\n",
       "        vertical-align: top;\n",
       "    }\n",
       "\n",
       "    .dataframe thead th {\n",
       "        text-align: right;\n",
       "    }\n",
       "</style>\n",
       "<table border=\"1\" class=\"dataframe\">\n",
       "  <thead>\n",
       "    <tr style=\"text-align: right;\">\n",
       "      <th></th>\n",
       "      <th>AGE</th>\n",
       "      <th>SEX</th>\n",
       "      <th>BMI</th>\n",
       "      <th>Blood_pressure</th>\n",
       "      <th>Total_cholesterol</th>\n",
       "      <th>LD_lipo</th>\n",
       "      <th>HD_lipo</th>\n",
       "      <th>Total_cholesterol/HDL</th>\n",
       "      <th>triglycerides</th>\n",
       "      <th>Glucose</th>\n",
       "    </tr>\n",
       "  </thead>\n",
       "  <tbody>\n",
       "    <tr>\n",
       "      <th>0</th>\n",
       "      <td>59</td>\n",
       "      <td>2</td>\n",
       "      <td>32.1</td>\n",
       "      <td>101.00</td>\n",
       "      <td>157</td>\n",
       "      <td>93.2</td>\n",
       "      <td>38.0</td>\n",
       "      <td>4.00</td>\n",
       "      <td>4.8598</td>\n",
       "      <td>87</td>\n",
       "    </tr>\n",
       "    <tr>\n",
       "      <th>1</th>\n",
       "      <td>48</td>\n",
       "      <td>1</td>\n",
       "      <td>21.6</td>\n",
       "      <td>87.00</td>\n",
       "      <td>183</td>\n",
       "      <td>103.2</td>\n",
       "      <td>70.0</td>\n",
       "      <td>3.00</td>\n",
       "      <td>3.8918</td>\n",
       "      <td>69</td>\n",
       "    </tr>\n",
       "    <tr>\n",
       "      <th>2</th>\n",
       "      <td>72</td>\n",
       "      <td>2</td>\n",
       "      <td>30.5</td>\n",
       "      <td>93.00</td>\n",
       "      <td>156</td>\n",
       "      <td>93.6</td>\n",
       "      <td>41.0</td>\n",
       "      <td>4.00</td>\n",
       "      <td>4.6728</td>\n",
       "      <td>85</td>\n",
       "    </tr>\n",
       "    <tr>\n",
       "      <th>3</th>\n",
       "      <td>24</td>\n",
       "      <td>1</td>\n",
       "      <td>25.3</td>\n",
       "      <td>84.00</td>\n",
       "      <td>198</td>\n",
       "      <td>131.4</td>\n",
       "      <td>40.0</td>\n",
       "      <td>5.00</td>\n",
       "      <td>4.8903</td>\n",
       "      <td>89</td>\n",
       "    </tr>\n",
       "    <tr>\n",
       "      <th>4</th>\n",
       "      <td>50</td>\n",
       "      <td>1</td>\n",
       "      <td>23.0</td>\n",
       "      <td>101.00</td>\n",
       "      <td>192</td>\n",
       "      <td>125.4</td>\n",
       "      <td>52.0</td>\n",
       "      <td>4.00</td>\n",
       "      <td>4.2905</td>\n",
       "      <td>80</td>\n",
       "    </tr>\n",
       "    <tr>\n",
       "      <th>...</th>\n",
       "      <td>...</td>\n",
       "      <td>...</td>\n",
       "      <td>...</td>\n",
       "      <td>...</td>\n",
       "      <td>...</td>\n",
       "      <td>...</td>\n",
       "      <td>...</td>\n",
       "      <td>...</td>\n",
       "      <td>...</td>\n",
       "      <td>...</td>\n",
       "    </tr>\n",
       "    <tr>\n",
       "      <th>437</th>\n",
       "      <td>60</td>\n",
       "      <td>2</td>\n",
       "      <td>28.2</td>\n",
       "      <td>112.00</td>\n",
       "      <td>185</td>\n",
       "      <td>113.8</td>\n",
       "      <td>42.0</td>\n",
       "      <td>4.00</td>\n",
       "      <td>4.9836</td>\n",
       "      <td>93</td>\n",
       "    </tr>\n",
       "    <tr>\n",
       "      <th>438</th>\n",
       "      <td>47</td>\n",
       "      <td>2</td>\n",
       "      <td>24.9</td>\n",
       "      <td>75.00</td>\n",
       "      <td>225</td>\n",
       "      <td>166.0</td>\n",
       "      <td>42.0</td>\n",
       "      <td>5.00</td>\n",
       "      <td>4.4427</td>\n",
       "      <td>102</td>\n",
       "    </tr>\n",
       "    <tr>\n",
       "      <th>439</th>\n",
       "      <td>60</td>\n",
       "      <td>2</td>\n",
       "      <td>24.9</td>\n",
       "      <td>99.67</td>\n",
       "      <td>162</td>\n",
       "      <td>106.6</td>\n",
       "      <td>43.0</td>\n",
       "      <td>3.77</td>\n",
       "      <td>4.1271</td>\n",
       "      <td>95</td>\n",
       "    </tr>\n",
       "    <tr>\n",
       "      <th>440</th>\n",
       "      <td>36</td>\n",
       "      <td>1</td>\n",
       "      <td>30.0</td>\n",
       "      <td>95.00</td>\n",
       "      <td>201</td>\n",
       "      <td>125.2</td>\n",
       "      <td>42.0</td>\n",
       "      <td>4.79</td>\n",
       "      <td>5.1299</td>\n",
       "      <td>85</td>\n",
       "    </tr>\n",
       "    <tr>\n",
       "      <th>441</th>\n",
       "      <td>36</td>\n",
       "      <td>1</td>\n",
       "      <td>19.6</td>\n",
       "      <td>71.00</td>\n",
       "      <td>250</td>\n",
       "      <td>133.2</td>\n",
       "      <td>97.0</td>\n",
       "      <td>3.00</td>\n",
       "      <td>4.5951</td>\n",
       "      <td>92</td>\n",
       "    </tr>\n",
       "  </tbody>\n",
       "</table>\n",
       "<p>442 rows × 10 columns</p>\n",
       "</div>"
      ],
      "text/plain": [
       "     AGE  SEX   BMI  Blood_pressure  Total_cholesterol  LD_lipo  HD_lipo  \\\n",
       "0     59    2  32.1          101.00                157     93.2     38.0   \n",
       "1     48    1  21.6           87.00                183    103.2     70.0   \n",
       "2     72    2  30.5           93.00                156     93.6     41.0   \n",
       "3     24    1  25.3           84.00                198    131.4     40.0   \n",
       "4     50    1  23.0          101.00                192    125.4     52.0   \n",
       "..   ...  ...   ...             ...                ...      ...      ...   \n",
       "437   60    2  28.2          112.00                185    113.8     42.0   \n",
       "438   47    2  24.9           75.00                225    166.0     42.0   \n",
       "439   60    2  24.9           99.67                162    106.6     43.0   \n",
       "440   36    1  30.0           95.00                201    125.2     42.0   \n",
       "441   36    1  19.6           71.00                250    133.2     97.0   \n",
       "\n",
       "     Total_cholesterol/HDL  triglycerides  Glucose  \n",
       "0                     4.00         4.8598       87  \n",
       "1                     3.00         3.8918       69  \n",
       "2                     4.00         4.6728       85  \n",
       "3                     5.00         4.8903       89  \n",
       "4                     4.00         4.2905       80  \n",
       "..                     ...            ...      ...  \n",
       "437                   4.00         4.9836       93  \n",
       "438                   5.00         4.4427      102  \n",
       "439                   3.77         4.1271       95  \n",
       "440                   4.79         5.1299       85  \n",
       "441                   3.00         4.5951       92  \n",
       "\n",
       "[442 rows x 10 columns]"
      ]
     },
     "execution_count": 7,
     "metadata": {},
     "output_type": "execute_result"
    }
   ],
   "source": [
    "## put your code here\n",
    "df1=df.drop([\"Y\"],axis=1)\n",
    "df1"
   ]
  },
  {
   "cell_type": "markdown",
   "metadata": {},
   "source": [
    "&#9989; **(3 pt):** Group the data by the \"SEX\" column and then use the built-in Pandas function to get a quick statistical summary of your data (e.g. the mean, standard deviation, min, max, etc)."
   ]
  },
  {
   "cell_type": "code",
   "execution_count": 14,
   "metadata": {},
   "outputs": [
    {
     "data": {
      "text/html": [
       "<div>\n",
       "<style scoped>\n",
       "    .dataframe tbody tr th:only-of-type {\n",
       "        vertical-align: middle;\n",
       "    }\n",
       "\n",
       "    .dataframe tbody tr th {\n",
       "        vertical-align: top;\n",
       "    }\n",
       "\n",
       "    .dataframe thead tr th {\n",
       "        text-align: left;\n",
       "    }\n",
       "\n",
       "    .dataframe thead tr:last-of-type th {\n",
       "        text-align: right;\n",
       "    }\n",
       "</style>\n",
       "<table border=\"1\" class=\"dataframe\">\n",
       "  <thead>\n",
       "    <tr>\n",
       "      <th></th>\n",
       "      <th colspan=\"8\" halign=\"left\">AGE</th>\n",
       "      <th colspan=\"2\" halign=\"left\">BMI</th>\n",
       "      <th>...</th>\n",
       "      <th colspan=\"2\" halign=\"left\">triglycerides</th>\n",
       "      <th colspan=\"8\" halign=\"left\">Glucose</th>\n",
       "    </tr>\n",
       "    <tr>\n",
       "      <th></th>\n",
       "      <th>count</th>\n",
       "      <th>mean</th>\n",
       "      <th>std</th>\n",
       "      <th>min</th>\n",
       "      <th>25%</th>\n",
       "      <th>50%</th>\n",
       "      <th>75%</th>\n",
       "      <th>max</th>\n",
       "      <th>count</th>\n",
       "      <th>mean</th>\n",
       "      <th>...</th>\n",
       "      <th>75%</th>\n",
       "      <th>max</th>\n",
       "      <th>count</th>\n",
       "      <th>mean</th>\n",
       "      <th>std</th>\n",
       "      <th>min</th>\n",
       "      <th>25%</th>\n",
       "      <th>50%</th>\n",
       "      <th>75%</th>\n",
       "      <th>max</th>\n",
       "    </tr>\n",
       "    <tr>\n",
       "      <th>SEX</th>\n",
       "      <th></th>\n",
       "      <th></th>\n",
       "      <th></th>\n",
       "      <th></th>\n",
       "      <th></th>\n",
       "      <th></th>\n",
       "      <th></th>\n",
       "      <th></th>\n",
       "      <th></th>\n",
       "      <th></th>\n",
       "      <th></th>\n",
       "      <th></th>\n",
       "      <th></th>\n",
       "      <th></th>\n",
       "      <th></th>\n",
       "      <th></th>\n",
       "      <th></th>\n",
       "      <th></th>\n",
       "      <th></th>\n",
       "      <th></th>\n",
       "      <th></th>\n",
       "    </tr>\n",
       "  </thead>\n",
       "  <tbody>\n",
       "    <tr>\n",
       "      <th>1</th>\n",
       "      <td>235.0</td>\n",
       "      <td>46.382979</td>\n",
       "      <td>13.120665</td>\n",
       "      <td>19.0</td>\n",
       "      <td>37.0</td>\n",
       "      <td>48.0</td>\n",
       "      <td>55.0</td>\n",
       "      <td>75.0</td>\n",
       "      <td>235.0</td>\n",
       "      <td>26.010638</td>\n",
       "      <td>...</td>\n",
       "      <td>4.9452</td>\n",
       "      <td>6.107</td>\n",
       "      <td>235.0</td>\n",
       "      <td>89.017021</td>\n",
       "      <td>11.403241</td>\n",
       "      <td>58.0</td>\n",
       "      <td>81.0</td>\n",
       "      <td>89.0</td>\n",
       "      <td>96.0</td>\n",
       "      <td>124.0</td>\n",
       "    </tr>\n",
       "    <tr>\n",
       "      <th>2</th>\n",
       "      <td>207.0</td>\n",
       "      <td>50.942029</td>\n",
       "      <td>12.697623</td>\n",
       "      <td>20.0</td>\n",
       "      <td>41.0</td>\n",
       "      <td>53.0</td>\n",
       "      <td>60.0</td>\n",
       "      <td>79.0</td>\n",
       "      <td>207.0</td>\n",
       "      <td>26.790338</td>\n",
       "      <td>...</td>\n",
       "      <td>5.0304</td>\n",
       "      <td>6.107</td>\n",
       "      <td>207.0</td>\n",
       "      <td>93.806763</td>\n",
       "      <td>11.089283</td>\n",
       "      <td>66.0</td>\n",
       "      <td>87.0</td>\n",
       "      <td>93.0</td>\n",
       "      <td>100.5</td>\n",
       "      <td>124.0</td>\n",
       "    </tr>\n",
       "  </tbody>\n",
       "</table>\n",
       "<p>2 rows × 72 columns</p>\n",
       "</div>"
      ],
      "text/plain": [
       "       AGE                                                        BMI  \\\n",
       "     count       mean        std   min   25%   50%   75%   max  count   \n",
       "SEX                                                                     \n",
       "1    235.0  46.382979  13.120665  19.0  37.0  48.0  55.0  75.0  235.0   \n",
       "2    207.0  50.942029  12.697623  20.0  41.0  53.0  60.0  79.0  207.0   \n",
       "\n",
       "                ... triglycerides        Glucose                              \\\n",
       "          mean  ...           75%    max   count       mean        std   min   \n",
       "SEX             ...                                                            \n",
       "1    26.010638  ...        4.9452  6.107   235.0  89.017021  11.403241  58.0   \n",
       "2    26.790338  ...        5.0304  6.107   207.0  93.806763  11.089283  66.0   \n",
       "\n",
       "                               \n",
       "      25%   50%    75%    max  \n",
       "SEX                            \n",
       "1    81.0  89.0   96.0  124.0  \n",
       "2    87.0  93.0  100.5  124.0  \n",
       "\n",
       "[2 rows x 72 columns]"
      ]
     },
     "execution_count": 14,
     "metadata": {},
     "output_type": "execute_result"
    }
   ],
   "source": [
    "## put your code here\n",
    "df_sex=df1.groupby(\"SEX\")\n",
    "\n",
    "df_sex.describe()"
   ]
  },
  {
   "cell_type": "markdown",
   "metadata": {},
   "source": [
    "&#9989; **(9 pt):** For male patients, make a scatter plot of glucose level versus age. Make sure to include labels and a title for your plot. (Assume that Male corresponds to 2 in the \"SEX\" column.)"
   ]
  },
  {
   "cell_type": "code",
   "execution_count": 11,
   "metadata": {},
   "outputs": [],
   "source": [
    "## put your code here\n",
    "%matplotlib inline\n",
    "import matplotlib.pyplot as plt"
   ]
  },
  {
   "cell_type": "code",
   "execution_count": 19,
   "metadata": {},
   "outputs": [
    {
     "name": "stderr",
     "output_type": "stream",
     "text": [
      "No handles with labels found to put in legend.\n"
     ]
    },
    {
     "data": {
      "text/plain": [
       "<matplotlib.legend.Legend at 0x7faee3806f40>"
      ]
     },
     "execution_count": 19,
     "metadata": {},
     "output_type": "execute_result"
    },
    {
     "data": {
      "image/png": "[encoded data removed]",
      "text/plain": [
       "<Figure size 432x288 with 1 Axes>"
      ]
     },
     "metadata": {
      "needs_background": "light"
     },
     "output_type": "display_data"
    }
   ],
   "source": [
    "df1_male=df1[df1[\"SEX\"]==2]\n",
    "\n",
    "plt.scatter(df1_male[\"Glucose\"],df1_male[\"AGE\"]);\n",
    "plt.xlabel('Glucose level')\n",
    "plt.ylabel('Age')\n",
    "plt.title(\"Glucose level verses age for Male patients\")\n",
    "plt.legend()\n"
   ]
  },
  {
   "cell_type": "markdown",
   "metadata": {},
   "source": [
    "&#9989; **(9 pt):** Create two histograms for BMI distribution on the same plot. One for male and the other for female patients. Again, make sure to include labels for the axis, as well as a title for your plot."
   ]
  },
  {
   "cell_type": "code",
   "execution_count": 21,
   "metadata": {},
   "outputs": [],
   "source": [
    "df1_female=df1[df1[\"SEX\"]==1]"
   ]
  },
  {
   "cell_type": "code",
   "execution_count": 22,
   "metadata": {},
   "outputs": [
    {
     "data": {
      "text/plain": [
       "(array([32., 45., 37., 36., 30., 33., 12.,  7.,  2.,  1.]),\n",
       " array([18.5 , 20.78, 23.06, 25.34, 27.62, 29.9 , 32.18, 34.46, 36.74,\n",
       "        39.02, 41.3 ]),\n",
       " <BarContainer object of 10 artists>)"
      ]
     },
     "execution_count": 22,
     "metadata": {},
     "output_type": "execute_result"
    },
    {
     "data": {
      "image/png": "[encoded data removed]",
      "text/plain": [
       "<Figure size 432x288 with 1 Axes>"
      ]
     },
     "metadata": {
      "needs_background": "light"
     },
     "output_type": "display_data"
    }
   ],
   "source": [
    "## put your code here\n",
    "plt.subplot(2,1,1)\n",
    "plt.hist(df1_male[\"BMI\"])\n",
    "plt.\n",
    "plt.hist(df1_female[\"BMI\"])"
   ]
  },
  {
   "cell_type": "markdown",
   "metadata": {
    "pycharm": {
     "name": "#%% md\n"
    }
   },
   "source": [
    "---\n",
    "### &#128721; STOP (1 PT)\n",
    "**Pause to commit your changes to your Git repository!**\n",
    "\n",
    "Take a moment to save your notebook, commit the changes to your Git repository using the commit message \"**Committing Part 2**\", and push the changes to GitHub.\n"
   ]
  },
  {
   "cell_type": "markdown",
   "metadata": {},
   "source": [
    "---\n",
    "## Part 3: Using unfamilar library (25 points)\n"
   ]
  },
  {
   "cell_type": "markdown",
   "metadata": {},
   "source": [
    "For this problem, we want you to use a new package that you aren’t as used to. Specifically, you’ll be using the Plotly plotting package (https://plotly.com/python/).\n",
    "\n",
    "✅ Your goal is to use this new package to create some new plots.\n",
    "\n",
    "*Hint: You might want to take a look at the Plotly example gallery.*"
   ]
  },
  {
   "cell_type": "markdown",
   "metadata": {},
   "source": [
    "&#9989; **(6 pt):** From the dataframe used above, make a scatter plot of glucose level versus age. Make sure to include a title."
   ]
  },
  {
   "cell_type": "code",
   "execution_count": null,
   "metadata": {},
   "outputs": [],
   "source": [
    "## put your code here"
   ]
  },
  {
   "cell_type": "markdown",
   "metadata": {},
   "source": [
    "&#9989; **(6 pt):** Create a histogram for BMI distribution and have it seperated by sex. Make sure to include a title."
   ]
  },
  {
   "cell_type": "code",
   "execution_count": null,
   "metadata": {},
   "outputs": [],
   "source": [
    "## put your code here"
   ]
  },
  {
   "cell_type": "markdown",
   "metadata": {},
   "source": [
    "&#9989; **(6 pt):** Draw a scatter matrix plot of the data with the variables: **AGE, BMI, LD_lipo, triglycerides, and Glucose.** Make sure to include a title for your plot. (**Note** It may be useful to use Google to help you find relevant documentation.)"
   ]
  },
  {
   "cell_type": "code",
   "execution_count": null,
   "metadata": {},
   "outputs": [],
   "source": [
    "## Put your code here"
   ]
  },
  {
   "cell_type": "markdown",
   "metadata": {},
   "source": [
    "&#9989; **(7 pt):** Create another scatter matrix plot like you did above, but now use different colors for the male and female data points."
   ]
  },
  {
   "cell_type": "code",
   "execution_count": null,
   "metadata": {},
   "outputs": [],
   "source": [
    "## Put your code here"
   ]
  },
  {
   "cell_type": "markdown",
   "metadata": {},
   "source": [
    "---\n",
    "### &#128721; STOP (1 PT)\n",
    "**Pause to commit your changes to your Git repository!**\n",
    "\n",
    "Take a moment to save your notebook, commit the changes to your Git repository using the commit message \"**Committing Part 3**\", and push the changes to GitHub.\n"
   ]
  },
  {
   "cell_type": "markdown",
   "metadata": {
    "pycharm": {
     "name": "#%% md\n"
    }
   },
   "source": [
    "---\n",
    "## Part 4: Writing and using Python classes (35 points)"
   ]
  },
  {
   "cell_type": "markdown",
   "metadata": {},
   "source": [
    "For this question, you are asked to create two classes: customer and account.\n",
    "\n",
    "### First, download the list of customers (3 pt).\n",
    "\n",
    "&#9989; **(1 pt):** Download the csv file from\n",
    "`https://raw.githubusercontent.com/huichiayu/cmse_202_802/main/data/list_customer.csv`\n",
    "\n",
    "&#9989; **(2 pt):** Use pandas to import the data. This table contains the names of customers, account numbers, account owner's email addresses, and amount of money (in USD) in the account."
   ]
  },
  {
   "cell_type": "code",
   "execution_count": null,
   "metadata": {},
   "outputs": [],
   "source": [
    "# put you code here\n"
   ]
  },
  {
   "cell_type": "code",
   "execution_count": null,
   "metadata": {},
   "outputs": [],
   "source": [
    "# Fill in the question mark portion.\n",
    "import pandas as pd\n",
    "\n",
    "customers = ??\n",
    "customers"
   ]
  },
  {
   "cell_type": "markdown",
   "metadata": {},
   "source": [
    "### Build the account class\n",
    "&#9989; **(8 pt):** The account class will contain 3 attributes (number, owner, total_amount), and a total of 6 methods. Make sure to read the DocString and complete the code where stated."
   ]
  },
  {
   "cell_type": "code",
   "execution_count": null,
   "metadata": {},
   "outputs": [],
   "source": [
    "# Please fill in the parts with question marks and where it states \"Put code here\"\n",
    "\n",
    "class account():\n",
    "    \n",
    "    def __init__(self, number, owner, initial_amount = 0.0):\n",
    "        \"\"\"Initialize the attributes of the class.\n",
    "        \n",
    "        Parameters\n",
    "        ----------\n",
    "        number : string \n",
    "            Account number.\n",
    "        \n",
    "        owner : string\n",
    "            Account owner's name \n",
    "        \n",
    "        initial_amount: float\n",
    "            Initial amount of money in the account.\n",
    "        \n",
    "        \"\"\"\n",
    "        self.number = ??\n",
    "        self.owner = ??\n",
    "        self.total_amount = initial_amount \n",
    "        \n",
    "        \n",
    "    def get_acct_owner(self):\n",
    "        \"\"\"Returns the name of account owner.\"\"\"\n",
    "        return self.owner\n",
    "        \n",
    "        \n",
    "    def get_acct_amount(self):\n",
    "        \"\"\"Returns the amount of money in the account.\"\"\"\n",
    "        return self.total_amount     \n",
    "   \n",
    "    \n",
    "    def get_acct_number(self):\n",
    "        \"\"\"Returns the number of the account.\"\"\"\n",
    "        return self.number\n",
    "        \n",
    "\n",
    "    \n",
    "    def deposit(self, amount):\n",
    "        \"\"\"Deposit money into the account amount.\n",
    "        \n",
    "        Parameters\n",
    "        ----------\n",
    "        amount : float\n",
    "            Amount to be deposited.\n",
    "        \n",
    "        \"\"\"\n",
    "        # put your code here \n",
    "        \n",
    "        \n",
    "        \n",
    "    def withdraw(self, amount):\n",
    "        \"\"\"Remove money from the account amount.\n",
    "        \n",
    "        Parameters\n",
    "        ----------\n",
    "        amount : float\n",
    "            Amount to be withdrawn.\n",
    "        \n",
    "        Returns\n",
    "        -------\n",
    "        True if there are enough money in the account\n",
    "        \n",
    "        False if there are not enough money in the account\n",
    "        \n",
    "        \"\"\"\n",
    "        # put your code here \n",
    "\n",
    "\n",
    "    \n",
    "    def transfer_to(self, money, other_account):\n",
    "        \"\"\"Transfer money to another account if there are enough money.\n",
    "        Should check to see if there is enough funds in the account \n",
    "        before making the transfer. If there is enough funds, transfer\n",
    "        the funds and return True. If there isn't return False.\n",
    "        \n",
    "        Parameters\n",
    "        ----------\n",
    "        money : float\n",
    "            Amount of money to transfer.\n",
    "        \n",
    "        other_account : object\n",
    "            Instance of Account class where to transfer money.\n",
    "        \"\"\"\n",
    "       # put your code here \n",
    "            "
   ]
  },
  {
   "cell_type": "markdown",
   "metadata": {},
   "source": [
    "### Test your account class\n",
    "\n",
    "&#9989; Let's check whether the code works. Run the following cell and you should get the following output:\n"
   ]
  },
  {
   "cell_type": "code",
   "execution_count": null,
   "metadata": {},
   "outputs": [],
   "source": [
    "ac = account('456789','Bob',1200)\n",
    "\n",
    "print(f\"Customer {ac.get_acct_owner()} owns account {ac.get_acct_number()}, which has ${ac.get_acct_amount()}\")\n"
   ]
  },
  {
   "cell_type": "markdown",
   "metadata": {},
   "source": [
    "### Build the account class.\n",
    "\n",
    "&#9989; **(5 pt):** The customer class has 4 attributes and 4 methods. Read the DocString and complete the class.\n",
    "Make the 4 methods listed below: \n",
    "1. `get_acct` which returns the owner's account.\n",
    "1. `get_gender` which returns account owner's gender.\n",
    "1. `get_customer_name` which returns account owner's name.\n",
    "1. `get_customer_email` which returns account owner's email address."
   ]
  },
  {
   "cell_type": "code",
   "execution_count": null,
   "metadata": {},
   "outputs": [],
   "source": [
    "class customer():\n",
    "    \n",
    "    \"\"\"Customer class. It is used to keep track of customers'data\n",
    "    \n",
    "    Attributes\n",
    "    ----------\n",
    "    name: string\n",
    "        customer's name. first and last name\n",
    "\n",
    "    sex: string\n",
    "        customer's gender.\n",
    "\n",
    "    email: string\n",
    "        Email address where to reach the customer.\n",
    "    \n",
    "    acct: object\n",
    "        customer's account.\n",
    "    \"\"\"    \n",
    "    \n",
    "    \n",
    "    def __init__(self, name, sex, email, acct):\n",
    "        \"\"\" Initialize the customer with their data.\n",
    "\n",
    "        Parameters\n",
    "        ----------\n",
    "        name: string\n",
    "        customer's name. first and last name\n",
    "\n",
    "        sex: string\n",
    "        customer's gender.\n",
    "\n",
    "        email: string\n",
    "        Email address where to reach the customer.\n",
    "\n",
    "        acct: object\n",
    "        customer's account.\n",
    "        \"\"\"       \n",
    "        # Put your code here\n"
   ]
  },
  {
   "cell_type": "markdown",
   "metadata": {},
   "source": [
    "### Test your customer class\n",
    "\n",
    "&#9989; Let's check whether the code works. Run the following cell and you should get the following output\n"
   ]
  },
  {
   "cell_type": "code",
   "execution_count": null,
   "metadata": {},
   "outputs": [],
   "source": [
    "Bob = customer('Bob','M','bob@msu.edu', ac)\n",
    "\n",
    "print(f\"Customer {Bob.get_customer_name()} can be reached at {Bob.get_customer_email()}\")\n",
    "print(f\"Customer {Bob.get_customer_name()} owns account {Bob.get_acct().get_acct_number()}\")"
   ]
  },
  {
   "cell_type": "markdown",
   "metadata": {},
   "source": [
    "### Instantiate classes from the customer table.\n",
    "\n",
    "&#9989; **(6 pt):** Use for-loop to instantiate the accounts in the customer table, and assign the respective attributes from the data frame. Also, instantiate customer classes, and append those customer classes to the `cus_list` list."
   ]
  },
  {
   "cell_type": "code",
   "execution_count": null,
   "metadata": {},
   "outputs": [],
   "source": [
    "cust_obj_list = []\n",
    "\n",
    "# put your code here\n",
    "\n",
    "for i in range(??):\n",
    "    ac_data = ????.astype(object)\n",
    "    accnt_obj = account(?????)\n",
    "    customer_obj = customer(?????)\n",
    "    cust_obj_list.append(??)\n"
   ]
  },
  {
   "cell_type": "markdown",
   "metadata": {},
   "source": [
    "### Import the transaction table\n",
    "\n",
    "&#9989; **(1 pt)** Download the csv file from \n",
    "`https://raw.githubusercontent.com/huichiayu/cmse_202_802/main/data/transactions.csv`\n"
   ]
  },
  {
   "cell_type": "code",
   "execution_count": null,
   "metadata": {},
   "outputs": [],
   "source": [
    "# put your code here\n"
   ]
  },
  {
   "cell_type": "markdown",
   "metadata": {},
   "source": [
    "&#9989; Use pandas to read in the transation logs."
   ]
  },
  {
   "cell_type": "code",
   "execution_count": null,
   "metadata": {},
   "outputs": [],
   "source": [
    "# put your code here\n",
    "\n",
    "transac = ??\n",
    "\n",
    "transac"
   ]
  },
  {
   "cell_type": "markdown",
   "metadata": {},
   "source": [
    "### Perform transactions. \n",
    "\n",
    "&#9989; **(8 pt)** Now, you have account classes, customer classes, and a transaction log. Write a program that uses a for-loop to perform the transactions on the table between customers. \n",
    "###  Hint\n",
    "Here we first create a dictionary to map customer name and index in the pandas data frame."
   ]
  },
  {
   "cell_type": "code",
   "execution_count": null,
   "metadata": {},
   "outputs": [],
   "source": [
    "# create a dictionary for names and indices\n",
    "## Put your code here"
   ]
  },
  {
   "cell_type": "markdown",
   "metadata": {},
   "source": [
    "1. Then, you can use customer as key and index as value to call the classes and perform transactions in the for loop. \n",
    "1. If you do not want to use the dictionary above, please feel free to use you own idea. \n",
    "\n",
    "1. In the loop, you can call the customer class, then find the account, and then perform deposit, withdraw, or transfer.\n",
    "\n",
    "\n",
    "**If you cannot complete this cell in time, move on to the next one.**"
   ]
  },
  {
   "cell_type": "code",
   "execution_count": null,
   "metadata": {},
   "outputs": [],
   "source": [
    "for i in range(len(transac['Customer'])):\n",
    "    \n",
    "    # put you code here\n",
    "    \n",
    "    ind = ????\n",
    "    ac = ????\n",
    "    \n",
    "    trans_type = ????\n",
    "    amt = ?????\n",
    "    \n",
    "\n",
    "    if trans_type == 'withdraw':\n",
    "        ????\n",
    "        \n",
    "    if trans_type == 'deposit':\n",
    "        ?????\n",
    "        \n",
    "    \n",
    "    if trans_type == 'transfer':\n",
    "        ?????"
   ]
  },
  {
   "cell_type": "markdown",
   "metadata": {},
   "source": [
    "### Finally, let's summarize the funds in customers' accounts (4 pt)\n",
    "\n",
    "Write some code to find out whose account balance is below $\\$$300 and whose is above $\\$$15000.\n",
    "\n",
    "If account balance is below  $\\$$300,\n",
    "\n",
    "For female customers, print `customer email address`: Ms. `customer name`, your account balance is $`account amount`, which is below $300.  \n",
    "\n",
    "For male customers, print `customer email address`: Mr. `customer name`, your account balance is $`account amount`, which is below $300. \n",
    "\n",
    "\n",
    "If account balance is above $\\$$15000,\n",
    "\n",
    "For female customers, for female customers, print `customer email address`: Ms. `customer name`, your account balance is $`account amount`. Would you like to join our investiment plan.\n",
    "\n",
    "For female customers, for male customers, print `customer email address`: Mr. `customer name`, your account balance is $`account amount`. Would you like to join our investiment plan.\n",
    "\n",
    "\n",
    "Here is an example printout.  \n",
    "\n",
    "Here is an example printout. \n",
    "\n",
    "\n",
    "<img src=\"https://raw.githubusercontent.com/huichiayu/cmse_202_802/main/IMGs/example_printouts_1.png\" border=\"0\" align=\"center\" width=\"800\">\n",
    "\n",
    "**If you could not get the cell above is to work, then we will grade this cell based on the code correctness.**"
   ]
  },
  {
   "cell_type": "code",
   "execution_count": null,
   "metadata": {},
   "outputs": [],
   "source": [
    "for i in range(len(cus_list)):\n",
    "    acc_balc = ???\n",
    "    \n",
    "    if acc_balc < 300:\n",
    "        gd = ????\n",
    "        if gd == 'M':\n",
    "            print(f\"{cus_list[i].????)}: Mr. {cus_list[i].?????}, \\\n",
    "your account balance is ${cus_list[i].?????}, which is lower than $300.\" )\n",
    "        if gd == \"F\":\n",
    "            print(f\"{cus_list[i].??????}: Ms. {cus_list[i].??????}, \\\n",
    "your account balance is ${cus_list[i].????}, which is lower than $300.\" )\n",
    "        \n",
    "    if acc_balc > 10000:\n",
    "        gd = ????\n",
    "        if gd == 'M':\n",
    "            print(f\"{cus_list[i].????}: Mr. {cus_list[i].????}, \\\n",
    "your account balance is ${cus_list[i].??????}. Would you like to join our investment plan.\" )\n",
    "        if gd == \"F\":\n",
    "            print(f\"{cus_list[i].?????}: Ms. {cus_list[i].?????}, \\\n",
    "your account balance is ${cus_list[i].????}. Would you like to join our investment plan.\" )"
   ]
  },
  {
   "cell_type": "markdown",
   "metadata": {
    "pycharm": {
     "name": "#%% md\n"
    }
   },
   "source": [
    "---\n",
    "### &#128721; STOP (1 PT)\n",
    "**Pause to commit your changes to your Git repository!**\n",
    "\n",
    "Take a moment to save your notebook, commit the changes to your Git repository using the commit message \"**Committing Part 4**\", and push the changes to GitHub.\n"
   ]
  },
  {
   "cell_type": "markdown",
   "metadata": {
    "pycharm": {
     "name": "#%% md\n"
    }
   },
   "source": [
    "## You're done! Congrats on finishing your CMSE 202 Midterm!\n",
    "\n",
    "Make sure all of your changes to your repository are committed and pushed to GitHub. Also upload a copy of this notebook to the dropbox on D2L in case something went wrong with your repository or if you couldn't get the repository to work."
   ]
  }
 ],
 "metadata": {
  "kernelspec": {
   "display_name": "Python 3",
   "language": "python",
   "name": "python3"
  },
  "language_info": {
   "codemirror_mode": {
    "name": "ipython",
    "version": 3
   },
   "file_extension": ".py",
   "mimetype": "text/x-python",
   "name": "python",
   "nbconvert_exporter": "python",
   "pygments_lexer": "ipython3",
   "version": "3.8.8"
  }
 },
 "nbformat": 4,
 "nbformat_minor": 4
}
